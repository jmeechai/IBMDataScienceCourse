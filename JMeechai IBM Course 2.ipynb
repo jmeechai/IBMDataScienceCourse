{
  "metadata": {
    "kernelspec": {
      "name": "python",
      "display_name": "Pyolite",
      "language": "python"
    },
    "language_info": {
      "codemirror_mode": {
        "name": "python",
        "version": 3
      },
      "file_extension": ".py",
      "mimetype": "text/x-python",
      "name": "python",
      "nbconvert_exporter": "python",
      "pygments_lexer": "ipython3",
      "version": "3.8"
    }
  },
  "nbformat_minor": 4,
  "nbformat": 4,
  "cells": [
    {
      "cell_type": "markdown",
      "source": "<center>\n    <img src=\"https://s3-api.us-geo.objectstorage.softlayer.net/cf-courses-data/CognitiveClass/Logos/organization_logo/organization_logo.png\" width=\"300\" alt=\"cognitiveclass.ai logo\"  />\n</center>\n",
      "metadata": {}
    },
    {
      "cell_type": "markdown",
      "source": "#### Add your code below following the instructions given in the course\n",
      "metadata": {}
    },
    {
      "cell_type": "markdown",
      "source": "# My Jupyter Notebook on IBM Watson Studio",
      "metadata": {}
    },
    {
      "cell_type": "markdown",
      "source": "**Joyance Meechai** <br>\nStatistician",
      "metadata": {}
    },
    {
      "cell_type": "markdown",
      "source": "*I am interested in data science because I am inspired by the social responsibility and impact of mathematicians like Cathy O'Neil.*",
      "metadata": {}
    },
    {
      "cell_type": "markdown",
      "source": "### The following code begins by asking a question involving two well-known irrational numbers: pi and e.\n### It then calculates and displays the values for e^pi and pi^e.\n### And then it concludes with which of the two values is bigger.",
      "metadata": {}
    },
    {
      "cell_type": "code",
      "source": "import math\npi = math.pi\ne = math.e\nprint('Which is bigger e^pi or pi^e?')\nprint('e^pi is approximately: ',round(e**pi,3))\nprint('pi^e is approximately: ',round(pi**e,3))\nprint('Looks like it is e^pi!')",
      "metadata": {
        "trusted": true
      },
      "execution_count": 1,
      "outputs": [
        {
          "name": "stdout",
          "text": "Which is bigger e^pi or pi^e?\ne^pi is approximately:  23.141\npi^e is approximately:  22.459\nLooks like it is e^pi!\n",
          "output_type": "stream"
        }
      ]
    },
    {
      "cell_type": "markdown",
      "source": "## Here is a numbered list:\n1. Which contains a hyperlink to the [New York Times](www.nytimes.com),\n2. and also a ~~word~~ that has been striked out,\n3. and a picture of a penguin ![penguin](https://1.bp.blogspot.com/-ga6kv9VfjnQ/TqXnHeLgU6I/AAAAAAAABqE/FFZtuoy2nRc/s1600/penguin.jpg)",
      "metadata": {}
    },
    {
      "cell_type": "code",
      "source": "",
      "metadata": {},
      "execution_count": null,
      "outputs": []
    }
  ]
}